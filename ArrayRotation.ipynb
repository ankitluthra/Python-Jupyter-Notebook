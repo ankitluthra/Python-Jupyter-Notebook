{
 "cells": [
  {
   "cell_type": "markdown",
   "metadata": {},
   "source": [
    "\n",
    "# Program for array rotation\n",
    "<div class = \"alert alert-block alert-info\">\n",
    "Function rotate(arr[], d, n) that rotates array of size n by d elements\n",
    "</div>"
   ]
  },
  {
   "cell_type": "markdown",
   "metadata": {},
   "source": [
    "### Method 1(using temp array)"
   ]
  },
  {
   "cell_type": "raw",
   "metadata": {},
   "source": [
    "Input arr[] = [1, 2, 3, 4, 5, 6, 7], d = 2, n =7\n",
    "1) Store the first d elements in a temp array\n",
    "    temp[] = [1, 2]\n",
    "2) Shift rest of the arr[]\n",
    "    arr[] = [3, 4, 5, 6, 7, 6, 7]\n",
    "3) Store back the d elements\n",
    "    arr[] = [3, 4, 5, 6, 7, 1, 2]"
   ]
  },
  {
   "cell_type": "code",
   "execution_count": 29,
   "metadata": {},
   "outputs": [
    {
     "data": {
      "text/plain": [
       "[3, 4, 5, 6, 7, 1, 2]"
      ]
     },
     "execution_count": 29,
     "metadata": {},
     "output_type": "execute_result"
    }
   ],
   "source": [
    "def rotate_m1(arr,d,n):\n",
    "    temp = []\n",
    "    for i in range(d):\n",
    "        temp.append(arr[i])\n",
    "    for j in range(0, n-d):\n",
    "        arr[j] = arr[j+d]\n",
    "    for k in range(0, d):\n",
    "        arr[k+n-d] = temp[k]\n",
    "    return arr\n",
    "\n",
    "rotate_m1([1,2,3,4,5,6,7], 2, 7)"
   ]
  },
  {
   "cell_type": "markdown",
   "metadata": {},
   "source": [
    "### Method 2 (Rotate one by one)"
   ]
  },
  {
   "cell_type": "code",
   "execution_count": 19,
   "metadata": {},
   "outputs": [
    {
     "data": {
      "text/plain": [
       "[3, 4, 5, 6, 7, 1, 2]"
      ]
     },
     "execution_count": 19,
     "metadata": {},
     "output_type": "execute_result"
    }
   ],
   "source": [
    "def rotate_m2(arr,d,n):\n",
    "    for i in range(d):\n",
    "        temp = arr[0]\n",
    "        for j in range (0, n-1):\n",
    "            arr[j] = arr[j+1]\n",
    "        arr[n-1] = temp\n",
    "    return arr\n",
    "\n",
    "rotate_m2([1,2,3,4,5,6,7], 2, 7)"
   ]
  },
  {
   "cell_type": "markdown",
   "metadata": {},
   "source": [
    "### Method 3 (Using .append( ), .remove( ) and .extend( ) method)"
   ]
  },
  {
   "cell_type": "code",
   "execution_count": 25,
   "metadata": {},
   "outputs": [
    {
     "data": {
      "text/plain": [
       "[3, 4, 5, 6, 7, 1, 2]"
      ]
     },
     "execution_count": 25,
     "metadata": {},
     "output_type": "execute_result"
    }
   ],
   "source": [
    "def rotate_m3(arr,d,n):\n",
    "    temp = []\n",
    "    for i in range(d):\n",
    "        temp.append(arr[0])\n",
    "        arr.remove(arr[0])\n",
    "    arr.extend(temp)\n",
    "    return arr\n",
    "\n",
    "rotate_m3([1,2,3,4,5,6,7], 2, 7)"
   ]
  },
  {
   "cell_type": "markdown",
   "metadata": {},
   "source": [
    "### Method 4 (A Juggling Algorithm)\n",
    "This is an extension of method 2. Instead of moving one by one, divide the array in different sets\n",
    "where number of sets is equal to GCD of n and d and move the elements within sets."
   ]
  },
  {
   "cell_type": "markdown",
   "metadata": {},
   "source": [
    "Let arr[] be {1, 2, 3, 4, 5, 6, 7, 8, 9, 10, 11, 12}\n",
    "\n",
    "a) Elements are first moved in first set. <br>\n",
    "    arr[] after this step --> {<b>4</b> 2 3 <b>7</b> 5 6 <b>10</b> 8 9 <b>1</b> 11 12}\n",
    "<br><br>\n",
    "b) Then in second set.<br>\n",
    "    arr[] after this step --> {4 **5** 3 7 **8** 6 10 **11** 9 1 **2** 12}\n",
    "<br><br>\n",
    "c) Finally in third set.<br>\n",
    "    arr[] after this step --> {4 5 **6** 7 8 **9** 10 11 **12** 1 2 **3**}\n",
    "\n",
    "    "
   ]
  },
  {
   "cell_type": "code",
   "execution_count": 1,
   "metadata": {},
   "outputs": [
    {
     "data": {
      "text/plain": [
       "[4, 5, 6, 7, 8, 9, 10, 11, 12, 1, 2, 3]"
      ]
     },
     "execution_count": 1,
     "metadata": {},
     "output_type": "execute_result"
    }
   ],
   "source": [
    "import math\n",
    "\n",
    "def rotate_m4(arr,d,n):\n",
    "    d = d%n\n",
    "    g_c_d = math.gcd(d,n)\n",
    "    \n",
    "    for i in range(g_c_d):\n",
    "        temp = arr[i]\n",
    "        j = i\n",
    "        while 1:\n",
    "            k = j+d\n",
    "            if k >= n:\n",
    "                k = k - n\n",
    "    \n",
    "\n",
    "        if k == i:\n",
    "                break\n",
    "            arr[j] = arr[k]\n",
    "            j = k\n",
    "        arr[j] = temp\n",
    "    return arr\n",
    "\n",
    "rotate_m4([1,2,3,4,5,6,7,8,9,10,11,12], 3, 12)"
   ]
  },
  {
   "cell_type": "markdown",
   "metadata": {},
   "source": [
    "### Method 5 (Reverse Algorithm)"
   ]
  },
  {
   "cell_type": "markdown",
   "metadata": {},
   "source": [
    "Let AB be the two parts of the input array where A = arr[0..d-1] and B = arr[d..n-1]. The idea of the algorithm is : \n",
    " \n",
    "\n",
    "- Reverse A to get ArB, where Ar is reverse of A.\n",
    "- Reverse B to get ArBr, where Br is reverse of B.\n",
    "- Reverse all to get (ArBr) r = BA.\n",
    "<br> **Example** : <br>\n",
    "Let the array be arr[] = [1, 2, 3, 4, 5, 6, 7], d =2 and n = 7 <br>\n",
    "A = [1, 2] and B = [3, 4, 5, 6, 7] <br>\n",
    " \n",
    "    - Reverse A, we get ArB = [2, 1, 3, 4, 5, 6, 7]\n",
    "    - Reverse B, we get ArBr = [2, 1, 7, 6, 5, 4, 3]\n",
    "    - Reverse all, we get (ArBr)r = [3, 4, 5, 6, 7, 1, 2]"
   ]
  },
  {
   "cell_type": "code",
   "execution_count": 4,
   "metadata": {},
   "outputs": [
    {
     "data": {
      "text/plain": [
       "[5, 6, 7, 8, 9, 10, 11, 12, 1, 2, 3, 4]"
      ]
     },
     "execution_count": 4,
     "metadata": {},
     "output_type": "execute_result"
    }
   ],
   "source": [
    "def reverseArray(arr, start, end):\n",
    "    while start < end:\n",
    "        temp = arr[start]\n",
    "        arr[start] = arr[end]\n",
    "        arr[end] = temp\n",
    "        start += 1\n",
    "        end -= 1\n",
    "\n",
    "def leftRotate_m5(arr, d, n):\n",
    "    if d == 0: \n",
    "        return\n",
    "    # in case the rotating factor is \n",
    "    # greater than array length \n",
    "    d = d % n \n",
    "    reverseArray(arr,0,d-1)\n",
    "    reverseArray(arr,d,n-1)\n",
    "    reverseArray(arr,0,n-1)\n",
    "    \n",
    "    return arr\n",
    "\n",
    "leftRotate_m5([1,2,3,4,5,6,7,8,9,10,11,12], 4, 12)"
   ]
  },
  {
   "cell_type": "code",
   "execution_count": null,
   "metadata": {},
   "outputs": [],
   "source": []
  }
 ],
 "metadata": {
  "kernelspec": {
   "display_name": "Python 3",
   "language": "python",
   "name": "python3"
  },
  "language_info": {
   "codemirror_mode": {
    "name": "ipython",
    "version": 3
   },
   "file_extension": ".py",
   "mimetype": "text/x-python",
   "name": "python",
   "nbconvert_exporter": "python",
   "pygments_lexer": "ipython3",
   "version": "3.8.5"
  }
 },
 "nbformat": 4,
 "nbformat_minor": 4
}
