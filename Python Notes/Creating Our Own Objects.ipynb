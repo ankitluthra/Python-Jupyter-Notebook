{
 "cells": [
  {
   "cell_type": "markdown",
   "metadata": {},
   "source": [
    "## Creating Our Own Objects"
   ]
  },
  {
   "cell_type": "code",
   "execution_count": 9,
   "metadata": {},
   "outputs": [
    {
     "ename": "TypeError",
     "evalue": "__init__() missing 1 required positional argument: 'name'",
     "output_type": "error",
     "traceback": [
      "\u001b[0;31m---------------------------------------------------------------------------\u001b[0m",
      "\u001b[0;31mTypeError\u001b[0m                                 Traceback (most recent call last)",
      "\u001b[0;32m<ipython-input-9-a1c1e084f524>\u001b[0m in \u001b[0;36m<module>\u001b[0;34m\u001b[0m\n\u001b[1;32m      6\u001b[0m         \u001b[0mprint\u001b[0m\u001b[0;34m(\u001b[0m\u001b[0;34m'run'\u001b[0m\u001b[0;34m)\u001b[0m\u001b[0;34m\u001b[0m\u001b[0;34m\u001b[0m\u001b[0m\n\u001b[1;32m      7\u001b[0m \u001b[0;34m\u001b[0m\u001b[0m\n\u001b[0;32m----> 8\u001b[0;31m \u001b[0mplayer1\u001b[0m \u001b[0;34m=\u001b[0m \u001b[0mPlayerCharacter\u001b[0m\u001b[0;34m(\u001b[0m\u001b[0;34m)\u001b[0m\u001b[0;34m\u001b[0m\u001b[0;34m\u001b[0m\u001b[0m\n\u001b[0m\u001b[1;32m      9\u001b[0m \u001b[0mprint\u001b[0m\u001b[0;34m(\u001b[0m\u001b[0mplayer1\u001b[0m\u001b[0;34m)\u001b[0m\u001b[0;34m\u001b[0m\u001b[0;34m\u001b[0m\u001b[0m\n",
      "\u001b[0;31mTypeError\u001b[0m: __init__() missing 1 required positional argument: 'name'"
     ]
    }
   ],
   "source": [
    "class PlayerCharacter:   #Another rule is to have the name singular\n",
    "    def __init__(self, name):\n",
    "        self.name = name\n",
    "        \n",
    "    def run(self):\n",
    "        print('run')\n",
    "        \n",
    "player1 = PlayerCharacter()\n",
    "print(player1)"
   ]
  },
  {
   "cell_type": "markdown",
   "metadata": {},
   "source": [
    "When we build a class we usually see __init__ method/constructor method and this is automatically called when we instantiate(calling the class to create an object). When we instantiate, player1 = PlayerCharacter() it automatically runs everything in that code block. It tries to do self.name = name but we didn't give any argument so it gives an error."
   ]
  },
  {
   "cell_type": "markdown",
   "metadata": {},
   "source": [
    "So if we do:\n"
   ]
  },
  {
   "cell_type": "code",
   "execution_count": 4,
   "metadata": {},
   "outputs": [],
   "source": [
    "player1 = PlayerCharacter('Cindy')"
   ]
  },
  {
   "cell_type": "markdown",
   "metadata": {},
   "source": [
    "'self' in above code refers to PlayerCharacter that we are going to create i.e. player1. So when we print the following we get:"
   ]
  },
  {
   "cell_type": "code",
   "execution_count": 5,
   "metadata": {},
   "outputs": [
    {
     "name": "stdout",
     "output_type": "stream",
     "text": [
      "Cindy\n"
     ]
    }
   ],
   "source": [
    "print(player1.name)"
   ]
  },
  {
   "cell_type": "markdown",
   "metadata": {},
   "source": [
    "We get Cindy because we gave it as the parameter to PlayerCharacter and when we instantiate it we pass the 'name' parameter. The default parameter is self and then we gave name to 'self.name'. In order to player have name we need to do 'self.' because self refers to player1.\n",
    "If we create another player and run it we use same piece of code but we get different values as we use different attributes:"
   ]
  },
  {
   "cell_type": "code",
   "execution_count": 10,
   "metadata": {},
   "outputs": [
    {
     "name": "stdout",
     "output_type": "stream",
     "text": [
      "Tom\n"
     ]
    }
   ],
   "source": [
    "player2 = PlayerCharacter('Tom')\n",
    "print(player2.name)"
   ]
  },
  {
   "cell_type": "markdown",
   "metadata": {},
   "source": [
    "We can have multiple things in the class like age. Will add self.age in the above class definition."
   ]
  },
  {
   "cell_type": "code",
   "execution_count": 11,
   "metadata": {},
   "outputs": [],
   "source": [
    "class PlayerCharacter:   #Another rule is to have the name singular\n",
    "    def __init__(self, name, age):\n",
    "        self.name = name\n",
    "        self.age = age\n",
    "        \n",
    "    def run(self):\n",
    "        print('run')"
   ]
  },
  {
   "cell_type": "code",
   "execution_count": 12,
   "metadata": {},
   "outputs": [],
   "source": [
    "player1 = PlayerCharacter('Cindy', 22)\n",
    "player2 = PlayerCharacter('Tom', 31)"
   ]
  },
  {
   "cell_type": "code",
   "execution_count": 14,
   "metadata": {},
   "outputs": [
    {
     "name": "stdout",
     "output_type": "stream",
     "text": [
      "22\n",
      "31\n"
     ]
    }
   ],
   "source": [
    "print(player1.age)\n",
    "print(player2.age)"
   ]
  },
  {
   "cell_type": "code",
   "execution_count": 16,
   "metadata": {},
   "outputs": [
    {
     "name": "stdout",
     "output_type": "stream",
     "text": [
      "run\n",
      "None\n"
     ]
    }
   ],
   "source": [
    "print(player1.run())"
   ]
  },
  {
   "cell_type": "markdown",
   "metadata": {},
   "source": [
    "We get **None** because the function isn't returning anything in the function run(). If we add:<br>\n",
    "def run(self):<br>\n",
    "        print('run')<br>\n",
    "        return('done')\n",
    "        <br><br>\n",
    "Then it will return:<br>\n",
    "run<br>\n",
    "done"
   ]
  },
  {
   "cell_type": "code",
   "execution_count": 18,
   "metadata": {},
   "outputs": [
    {
     "name": "stdout",
     "output_type": "stream",
     "text": [
      "<__main__.PlayerCharacter object at 0x7fa98fbca340>\n",
      "<__main__.PlayerCharacter object at 0x7fa98fbca3a0>\n"
     ]
    }
   ],
   "source": [
    "print(player1)\n",
    "print(player2)"
   ]
  },
  {
   "cell_type": "markdown",
   "metadata": {},
   "source": [
    "When we are printing both the player then we notice that:<br> We get the PlayerCharacter but each of these objects player1 and player2 are at different memory location.<br> So we are able to use one blueprint to create multiple players but these players are not the same. This way we are able to keep things safe."
   ]
  }
 ],
 "metadata": {
  "kernelspec": {
   "display_name": "Python 3",
   "language": "python",
   "name": "python3"
  },
  "language_info": {
   "codemirror_mode": {
    "name": "ipython",
    "version": 3
   },
   "file_extension": ".py",
   "mimetype": "text/x-python",
   "name": "python",
   "nbconvert_exporter": "python",
   "pygments_lexer": "ipython3",
   "version": "3.8.5"
  }
 },
 "nbformat": 4,
 "nbformat_minor": 4
}
